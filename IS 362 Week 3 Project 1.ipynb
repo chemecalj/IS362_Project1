{
 "cells": [
  {
   "cell_type": "markdown",
   "metadata": {},
   "source": [
    "# IS 362 Week 3 Project 1"
   ]
  },
  {
   "cell_type": "markdown",
   "metadata": {},
   "source": [
    "(1) Create a .CSV file (or optionally, a MySQL database!) that includes all of the information below. You may change the structure of the information as you like.\n",
    "(2) Read the information from your .CSV file into pandas, and perform analysis to compare the arrival delays for the two airlines.\n",
    "(3) Your code should be in a Jupyter (IPython) notebook (in GitHub), and should include narrative descriptions of your analysis and conclusions."
   ]
  },
  {
   "cell_type": "markdown",
   "metadata": {},
   "source": [
    "First step is to import pandas so we can get started with the flightinfo.csv I created."
   ]
  },
  {
   "cell_type": "code",
   "execution_count": 31,
   "metadata": {
    "collapsed": true
   },
   "outputs": [],
   "source": [
    "import pandas as pd\n",
    "pd.options.display.float_format = '{:,.2f}'.format\n",
    "flightinfo = pd.read_csv(\"C:/Users/johnj/IS 362 Spring 2018/Week 3 Project 1/flightinfo.csv\")"
   ]
  },
  {
   "cell_type": "markdown",
   "metadata": {},
   "source": [
    "The head() command will allow me to view the data."
   ]
  },
  {
   "cell_type": "code",
   "execution_count": 32,
   "metadata": {},
   "outputs": [
    {
     "data": {
      "text/html": [
       "<div>\n",
       "<style>\n",
       "    .dataframe thead tr:only-child th {\n",
       "        text-align: right;\n",
       "    }\n",
       "\n",
       "    .dataframe thead th {\n",
       "        text-align: left;\n",
       "    }\n",
       "\n",
       "    .dataframe tbody tr th {\n",
       "        vertical-align: top;\n",
       "    }\n",
       "</style>\n",
       "<table border=\"1\" class=\"dataframe\">\n",
       "  <thead>\n",
       "    <tr style=\"text-align: right;\">\n",
       "      <th></th>\n",
       "      <th>ArrivalCity</th>\n",
       "      <th>AlaskaOnTime</th>\n",
       "      <th>AlaskaDelayed</th>\n",
       "      <th>AMWestOnTime</th>\n",
       "      <th>AMWestDelayed</th>\n",
       "    </tr>\n",
       "  </thead>\n",
       "  <tbody>\n",
       "    <tr>\n",
       "      <th>0</th>\n",
       "      <td>Los Angeles</td>\n",
       "      <td>497</td>\n",
       "      <td>62</td>\n",
       "      <td>694</td>\n",
       "      <td>117</td>\n",
       "    </tr>\n",
       "    <tr>\n",
       "      <th>1</th>\n",
       "      <td>Phoenix</td>\n",
       "      <td>221</td>\n",
       "      <td>12</td>\n",
       "      <td>4840</td>\n",
       "      <td>415</td>\n",
       "    </tr>\n",
       "    <tr>\n",
       "      <th>2</th>\n",
       "      <td>San Diego</td>\n",
       "      <td>212</td>\n",
       "      <td>20</td>\n",
       "      <td>383</td>\n",
       "      <td>65</td>\n",
       "    </tr>\n",
       "    <tr>\n",
       "      <th>3</th>\n",
       "      <td>San Francisco</td>\n",
       "      <td>503</td>\n",
       "      <td>102</td>\n",
       "      <td>320</td>\n",
       "      <td>129</td>\n",
       "    </tr>\n",
       "    <tr>\n",
       "      <th>4</th>\n",
       "      <td>Seattle</td>\n",
       "      <td>1841</td>\n",
       "      <td>305</td>\n",
       "      <td>201</td>\n",
       "      <td>61</td>\n",
       "    </tr>\n",
       "  </tbody>\n",
       "</table>\n",
       "</div>"
      ],
      "text/plain": [
       "     ArrivalCity  AlaskaOnTime  AlaskaDelayed  AMWestOnTime  AMWestDelayed\n",
       "0    Los Angeles           497             62           694            117\n",
       "1        Phoenix           221             12          4840            415\n",
       "2      San Diego           212             20           383             65\n",
       "3  San Francisco           503            102           320            129\n",
       "4        Seattle          1841            305           201             61"
      ]
     },
     "execution_count": 32,
     "metadata": {},
     "output_type": "execute_result"
    }
   ],
   "source": [
    "flightinfo.head()"
   ]
  },
  {
   "cell_type": "markdown",
   "metadata": {},
   "source": [
    "My data is displayed with the cities as rows and the flight data for the two airlines as columns. The flight data has been broken into two columns for each airline consisting of on-time and delayed data flight info."
   ]
  },
  {
   "cell_type": "markdown",
   "metadata": {},
   "source": [
    "Using the insert() command I will add two more columns. These columns will provide a total of flights to each city from each airline. First will be the \"AlaskaTotalFlights\"."
   ]
  },
  {
   "cell_type": "code",
   "execution_count": 33,
   "metadata": {},
   "outputs": [],
   "source": [
    "flightinfo.insert(3, 'AlaskaTotal', flightinfo.AlaskaOnTime + flightinfo.AlaskaDelayed)"
   ]
  },
  {
   "cell_type": "markdown",
   "metadata": {},
   "source": [
    "The next one will be the \"AMWestTotal\"."
   ]
  },
  {
   "cell_type": "code",
   "execution_count": 34,
   "metadata": {
    "collapsed": true
   },
   "outputs": [],
   "source": [
    "flightinfo.insert(6, 'AMWestTotal', flightinfo.AMWestOnTime + flightinfo.AMWestDelayed)"
   ]
  },
  {
   "cell_type": "markdown",
   "metadata": {},
   "source": [
    "Now I will view the data to ensure that it is displaying properly."
   ]
  },
  {
   "cell_type": "code",
   "execution_count": 35,
   "metadata": {},
   "outputs": [
    {
     "data": {
      "text/html": [
       "<div>\n",
       "<style>\n",
       "    .dataframe thead tr:only-child th {\n",
       "        text-align: right;\n",
       "    }\n",
       "\n",
       "    .dataframe thead th {\n",
       "        text-align: left;\n",
       "    }\n",
       "\n",
       "    .dataframe tbody tr th {\n",
       "        vertical-align: top;\n",
       "    }\n",
       "</style>\n",
       "<table border=\"1\" class=\"dataframe\">\n",
       "  <thead>\n",
       "    <tr style=\"text-align: right;\">\n",
       "      <th></th>\n",
       "      <th>ArrivalCity</th>\n",
       "      <th>AlaskaOnTime</th>\n",
       "      <th>AlaskaDelayed</th>\n",
       "      <th>AlaskaTotal</th>\n",
       "      <th>AMWestOnTime</th>\n",
       "      <th>AMWestDelayed</th>\n",
       "      <th>AMWestTotal</th>\n",
       "    </tr>\n",
       "  </thead>\n",
       "  <tbody>\n",
       "    <tr>\n",
       "      <th>0</th>\n",
       "      <td>Los Angeles</td>\n",
       "      <td>497</td>\n",
       "      <td>62</td>\n",
       "      <td>559</td>\n",
       "      <td>694</td>\n",
       "      <td>117</td>\n",
       "      <td>811</td>\n",
       "    </tr>\n",
       "    <tr>\n",
       "      <th>1</th>\n",
       "      <td>Phoenix</td>\n",
       "      <td>221</td>\n",
       "      <td>12</td>\n",
       "      <td>233</td>\n",
       "      <td>4840</td>\n",
       "      <td>415</td>\n",
       "      <td>5255</td>\n",
       "    </tr>\n",
       "    <tr>\n",
       "      <th>2</th>\n",
       "      <td>San Diego</td>\n",
       "      <td>212</td>\n",
       "      <td>20</td>\n",
       "      <td>232</td>\n",
       "      <td>383</td>\n",
       "      <td>65</td>\n",
       "      <td>448</td>\n",
       "    </tr>\n",
       "    <tr>\n",
       "      <th>3</th>\n",
       "      <td>San Francisco</td>\n",
       "      <td>503</td>\n",
       "      <td>102</td>\n",
       "      <td>605</td>\n",
       "      <td>320</td>\n",
       "      <td>129</td>\n",
       "      <td>449</td>\n",
       "    </tr>\n",
       "    <tr>\n",
       "      <th>4</th>\n",
       "      <td>Seattle</td>\n",
       "      <td>1841</td>\n",
       "      <td>305</td>\n",
       "      <td>2146</td>\n",
       "      <td>201</td>\n",
       "      <td>61</td>\n",
       "      <td>262</td>\n",
       "    </tr>\n",
       "  </tbody>\n",
       "</table>\n",
       "</div>"
      ],
      "text/plain": [
       "     ArrivalCity  AlaskaOnTime  AlaskaDelayed  AlaskaTotal  AMWestOnTime  \\\n",
       "0    Los Angeles           497             62          559           694   \n",
       "1        Phoenix           221             12          233          4840   \n",
       "2      San Diego           212             20          232           383   \n",
       "3  San Francisco           503            102          605           320   \n",
       "4        Seattle          1841            305         2146           201   \n",
       "\n",
       "   AMWestDelayed  AMWestTotal  \n",
       "0            117          811  \n",
       "1            415         5255  \n",
       "2             65          448  \n",
       "3            129          449  \n",
       "4             61          262  "
      ]
     },
     "execution_count": 35,
     "metadata": {},
     "output_type": "execute_result"
    }
   ],
   "source": [
    "flightinfo"
   ]
  },
  {
   "cell_type": "markdown",
   "metadata": {},
   "source": [
    "Now that our table looks good we can start to manipulate the data set. Since each airline has a different amount of flights to each city I will calculate the different percentages for each city."
   ]
  },
  {
   "cell_type": "markdown",
   "metadata": {},
   "source": [
    "I will add two more columns that will compute the percentage rate for each airline and each city. This will give me better insight as to which airline has a worse arrival delay percentage for each destination. "
   ]
  },
  {
   "cell_type": "markdown",
   "metadata": {},
   "source": [
    "First column will be for Alaska Airline, \"AlaskaPercentage\"."
   ]
  },
  {
   "cell_type": "code",
   "execution_count": 36,
   "metadata": {},
   "outputs": [],
   "source": [
    "flightinfo.insert(4, 'AlaskaPercentage', (flightinfo.AlaskaDelayed / flightinfo.AlaskaTotal) * 100)"
   ]
  },
  {
   "cell_type": "markdown",
   "metadata": {},
   "source": [
    "The next column I will add will be for AM West Ailine, \"AMWestPercentage\"."
   ]
  },
  {
   "cell_type": "code",
   "execution_count": 37,
   "metadata": {
    "collapsed": true
   },
   "outputs": [],
   "source": [
    "flightinfo.insert(8, 'AMWestPercentage', (flightinfo.AMWestDelayed / flightinfo.AMWestTotal) * 100)"
   ]
  },
  {
   "cell_type": "markdown",
   "metadata": {},
   "source": [
    "Once again I will check my table to ensure that the calculations are being displayed properly."
   ]
  },
  {
   "cell_type": "code",
   "execution_count": 38,
   "metadata": {},
   "outputs": [
    {
     "data": {
      "text/html": [
       "<div>\n",
       "<style>\n",
       "    .dataframe thead tr:only-child th {\n",
       "        text-align: right;\n",
       "    }\n",
       "\n",
       "    .dataframe thead th {\n",
       "        text-align: left;\n",
       "    }\n",
       "\n",
       "    .dataframe tbody tr th {\n",
       "        vertical-align: top;\n",
       "    }\n",
       "</style>\n",
       "<table border=\"1\" class=\"dataframe\">\n",
       "  <thead>\n",
       "    <tr style=\"text-align: right;\">\n",
       "      <th></th>\n",
       "      <th>ArrivalCity</th>\n",
       "      <th>AlaskaOnTime</th>\n",
       "      <th>AlaskaDelayed</th>\n",
       "      <th>AlaskaTotal</th>\n",
       "      <th>AlaskaPercentage</th>\n",
       "      <th>AMWestOnTime</th>\n",
       "      <th>AMWestDelayed</th>\n",
       "      <th>AMWestTotal</th>\n",
       "      <th>AMWestPercentage</th>\n",
       "    </tr>\n",
       "  </thead>\n",
       "  <tbody>\n",
       "    <tr>\n",
       "      <th>0</th>\n",
       "      <td>Los Angeles</td>\n",
       "      <td>497</td>\n",
       "      <td>62</td>\n",
       "      <td>559</td>\n",
       "      <td>11.09</td>\n",
       "      <td>694</td>\n",
       "      <td>117</td>\n",
       "      <td>811</td>\n",
       "      <td>14.43</td>\n",
       "    </tr>\n",
       "    <tr>\n",
       "      <th>1</th>\n",
       "      <td>Phoenix</td>\n",
       "      <td>221</td>\n",
       "      <td>12</td>\n",
       "      <td>233</td>\n",
       "      <td>5.15</td>\n",
       "      <td>4840</td>\n",
       "      <td>415</td>\n",
       "      <td>5255</td>\n",
       "      <td>7.90</td>\n",
       "    </tr>\n",
       "    <tr>\n",
       "      <th>2</th>\n",
       "      <td>San Diego</td>\n",
       "      <td>212</td>\n",
       "      <td>20</td>\n",
       "      <td>232</td>\n",
       "      <td>8.62</td>\n",
       "      <td>383</td>\n",
       "      <td>65</td>\n",
       "      <td>448</td>\n",
       "      <td>14.51</td>\n",
       "    </tr>\n",
       "    <tr>\n",
       "      <th>3</th>\n",
       "      <td>San Francisco</td>\n",
       "      <td>503</td>\n",
       "      <td>102</td>\n",
       "      <td>605</td>\n",
       "      <td>16.86</td>\n",
       "      <td>320</td>\n",
       "      <td>129</td>\n",
       "      <td>449</td>\n",
       "      <td>28.73</td>\n",
       "    </tr>\n",
       "    <tr>\n",
       "      <th>4</th>\n",
       "      <td>Seattle</td>\n",
       "      <td>1841</td>\n",
       "      <td>305</td>\n",
       "      <td>2146</td>\n",
       "      <td>14.21</td>\n",
       "      <td>201</td>\n",
       "      <td>61</td>\n",
       "      <td>262</td>\n",
       "      <td>23.28</td>\n",
       "    </tr>\n",
       "  </tbody>\n",
       "</table>\n",
       "</div>"
      ],
      "text/plain": [
       "     ArrivalCity  AlaskaOnTime  AlaskaDelayed  AlaskaTotal  AlaskaPercentage  \\\n",
       "0    Los Angeles           497             62          559             11.09   \n",
       "1        Phoenix           221             12          233              5.15   \n",
       "2      San Diego           212             20          232              8.62   \n",
       "3  San Francisco           503            102          605             16.86   \n",
       "4        Seattle          1841            305         2146             14.21   \n",
       "\n",
       "   AMWestOnTime  AMWestDelayed  AMWestTotal  AMWestPercentage  \n",
       "0           694            117          811             14.43  \n",
       "1          4840            415         5255              7.90  \n",
       "2           383             65          448             14.51  \n",
       "3           320            129          449             28.73  \n",
       "4           201             61          262             23.28  "
      ]
     },
     "execution_count": 38,
     "metadata": {},
     "output_type": "execute_result"
    }
   ],
   "source": [
    "flightinfo"
   ]
  },
  {
   "cell_type": "markdown",
   "metadata": {},
   "source": [
    "Everything seems to be lined up properly and the calculations look accurate. Now I can start to fulfill the requirements for the assignment and display just the data concerning the delay percentages."
   ]
  },
  {
   "cell_type": "markdown",
   "metadata": {},
   "source": [
    "The next line of code will display a table with the cities, Alaska's delay percentages, and AM West's delay percentages."
   ]
  },
  {
   "cell_type": "code",
   "execution_count": 41,
   "metadata": {},
   "outputs": [
    {
     "data": {
      "text/html": [
       "<div>\n",
       "<style>\n",
       "    .dataframe thead tr:only-child th {\n",
       "        text-align: right;\n",
       "    }\n",
       "\n",
       "    .dataframe thead th {\n",
       "        text-align: left;\n",
       "    }\n",
       "\n",
       "    .dataframe tbody tr th {\n",
       "        vertical-align: top;\n",
       "    }\n",
       "</style>\n",
       "<table border=\"1\" class=\"dataframe\">\n",
       "  <thead>\n",
       "    <tr style=\"text-align: right;\">\n",
       "      <th></th>\n",
       "      <th>ArrivalCity</th>\n",
       "      <th>AlaskaPercentage</th>\n",
       "      <th>AMWestPercentage</th>\n",
       "    </tr>\n",
       "  </thead>\n",
       "  <tbody>\n",
       "    <tr>\n",
       "      <th>0</th>\n",
       "      <td>Los Angeles</td>\n",
       "      <td>11.09</td>\n",
       "      <td>14.43</td>\n",
       "    </tr>\n",
       "    <tr>\n",
       "      <th>1</th>\n",
       "      <td>Phoenix</td>\n",
       "      <td>5.15</td>\n",
       "      <td>7.90</td>\n",
       "    </tr>\n",
       "    <tr>\n",
       "      <th>2</th>\n",
       "      <td>San Diego</td>\n",
       "      <td>8.62</td>\n",
       "      <td>14.51</td>\n",
       "    </tr>\n",
       "    <tr>\n",
       "      <th>3</th>\n",
       "      <td>San Francisco</td>\n",
       "      <td>16.86</td>\n",
       "      <td>28.73</td>\n",
       "    </tr>\n",
       "    <tr>\n",
       "      <th>4</th>\n",
       "      <td>Seattle</td>\n",
       "      <td>14.21</td>\n",
       "      <td>23.28</td>\n",
       "    </tr>\n",
       "  </tbody>\n",
       "</table>\n",
       "</div>"
      ],
      "text/plain": [
       "     ArrivalCity  AlaskaPercentage  AMWestPercentage\n",
       "0    Los Angeles             11.09             14.43\n",
       "1        Phoenix              5.15              7.90\n",
       "2      San Diego              8.62             14.51\n",
       "3  San Francisco             16.86             28.73\n",
       "4        Seattle             14.21             23.28"
      ]
     },
     "execution_count": 41,
     "metadata": {},
     "output_type": "execute_result"
    }
   ],
   "source": [
    "delayrates = flightinfo[['ArrivalCity', 'AlaskaPercentage', 'AMWestPercentage']]\n",
    "delayrates"
   ]
  },
  {
   "cell_type": "markdown",
   "metadata": {},
   "source": [
    "My table looks good and the conditions for the assignment are fulfilled."
   ]
  },
  {
   "cell_type": "markdown",
   "metadata": {},
   "source": [
    "# Conclusion"
   ]
  },
  {
   "cell_type": "markdown",
   "metadata": {},
   "source": [
    "AM West Airlines has a higher percentage of arrival delays than Alaska Airlines in every city when comparing the two."
   ]
  }
 ],
 "metadata": {
  "kernelspec": {
   "display_name": "Python 3",
   "language": "python",
   "name": "python3"
  },
  "language_info": {
   "codemirror_mode": {
    "name": "ipython",
    "version": 3
   },
   "file_extension": ".py",
   "mimetype": "text/x-python",
   "name": "python",
   "nbconvert_exporter": "python",
   "pygments_lexer": "ipython3",
   "version": "3.6.3"
  }
 },
 "nbformat": 4,
 "nbformat_minor": 2
}
